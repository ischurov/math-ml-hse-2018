{
 "cells": [
  {
   "cell_type": "markdown",
   "metadata": {},
   "source": [
    "# Машинное обучение\n",
    "\n",
    "## Факультет математики НИУ ВШЭ\n",
    "\n",
    "### 2018-2019 учебный год\n",
    "\n",
    "Лектор: Илья Щуров\n",
    "\n",
    "Семинаристы: Евгения Ческидова, Евгений Ковалев\n",
    "\n",
    "Ассистенты: Константин Ваниев, Софья Дымченко"
   ]
  },
  {
   "cell_type": "markdown",
   "metadata": {},
   "source": [
    "# Семинар 11\n",
    "\n",
    "На этом семинаре мы:\n",
    "\n",
    "* Познакомимся с PyTorch\n",
    "* Вспомним про алгоритм обратного распространения ошибки\n",
    "* Узнаем о пайплайне разработки нейросетевых моделей на пайторч\n",
    "* Напишем нашу первую модель"
   ]
  },
  {
   "cell_type": "code",
   "execution_count": 1,
   "metadata": {},
   "outputs": [],
   "source": [
    "%matplotlib inline"
   ]
  },
  {
   "cell_type": "markdown",
   "metadata": {},
   "source": [
    "<img src=\"https://upload.wikimedia.org/wikipedia/commons/9/96/Pytorch_logo.png\" width=600>\n",
    "<center>(лого здесь, ибо вы должны знать своих героев в лицо)</center>\n",
    "\n",
    "Существует множество фреймворков для глубокого обучения, но мы рассмотрим фреймворк, который стремительно набирает популярность как среди исследователей в области глубокого обучения, так и среди простых ребят. \n",
    "\n",
    "Существует мнение, что регулярное использование PyTorch положительно влияет на здоровье и самочувствие."
   ]
  },
  {
   "cell_type": "code",
   "execution_count": 28,
   "metadata": {},
   "outputs": [
    {
     "data": {
      "text/html": [
       "<blockquote class=\"twitter-tweet\" data-lang=\"en-gb\"><p lang=\"en\" dir=\"ltr\">I&#39;ve been using PyTorch a few months now and I&#39;ve never felt better. I have more energy. My skin is clearer. My eye sight has improved.</p>&mdash; Andrej Karpathy (@karpathy) <a href=\"https://twitter.com/karpathy/status/868178954032513024?ref_src=twsrc%5Etfw\">26 May 2017</a></blockquote>\n",
       "<script async src=\"https://platform.twitter.com/widgets.js\" charset=\"utf-8\"></script>\n"
      ],
      "text/plain": [
       "<IPython.core.display.HTML object>"
      ]
     },
     "metadata": {},
     "output_type": "display_data"
    }
   ],
   "source": [
    "%%html\n",
    "<blockquote class=\"twitter-tweet\" data-lang=\"en-gb\"><p lang=\"en\" dir=\"ltr\">I&#39;ve been using PyTorch a few months now and I&#39;ve never felt better. I have more energy. My skin is clearer. My eye sight has improved.</p>&mdash; Andrej Karpathy (@karpathy) <a href=\"https://twitter.com/karpathy/status/868178954032513024?ref_src=twsrc%5Etfw\">26 May 2017</a></blockquote>\n",
    "<script async src=\"https://platform.twitter.com/widgets.js\" charset=\"utf-8\"></script>"
   ]
  },
  {
   "cell_type": "markdown",
   "metadata": {},
   "source": [
    "\n",
    "What is PyTorch?\n",
    "================\n",
    "\n",
    "<img src >\n",
    "\n",
    "Это python-based фреймворк, преследующий 2 цели:\n",
    "\n",
    "- Стать заменой NumPy с возможностью использования мощностей GPU\n",
    "- Платформа для исследований в области глубокого обучения\n",
    "\n",
    "\n",
    "Ключевые понятия\n",
    "---------------\n",
    "\n",
    "### Тензоры\n",
    "\n",
    "Тензоры очень похожи на ndarrays в NumPy, но они могут быть загружены в память GPU и все расчеты с ними могут быть произведены на GPU\n",
    "\n"
   ]
  },
  {
   "cell_type": "code",
   "execution_count": 2,
   "metadata": {},
   "outputs": [],
   "source": [
    "from __future__ import print_function\n",
    "import torch"
   ]
  },
  {
   "cell_type": "markdown",
   "metadata": {},
   "source": [
    "Construct a 5x3 matrix, uninitialized:"
   ]
  },
  {
   "cell_type": "code",
   "execution_count": 3,
   "metadata": {},
   "outputs": [
    {
     "name": "stdout",
     "output_type": "stream",
     "text": [
      "tensor([[2.9009e+38, 4.5869e-41, 6.6380e-38],\n",
      "        [0.0000e+00, 1.4013e-45, 0.0000e+00],\n",
      "        [6.3651e-38, 0.0000e+00, 2.4663e-43],\n",
      "        [0.0000e+00, 8.9683e-44, 0.0000e+00],\n",
      "        [6.6380e-38, 0.0000e+00, 6.2191e-38]])\n"
     ]
    }
   ],
   "source": [
    "x = torch.empty(5, 3)\n",
    "print(x)"
   ]
  },
  {
   "cell_type": "markdown",
   "metadata": {},
   "source": [
    "Construct a randomly initialized matrix:"
   ]
  },
  {
   "cell_type": "code",
   "execution_count": 6,
   "metadata": {},
   "outputs": [
    {
     "name": "stdout",
     "output_type": "stream",
     "text": [
      "tensor([[0.1242, 0.9421, 0.7569],\n",
      "        [0.3775, 0.7285, 0.2585],\n",
      "        [0.1603, 0.3326, 0.8372],\n",
      "        [0.6955, 0.2970, 0.2170],\n",
      "        [0.6723, 0.5660, 0.4801]])\n"
     ]
    }
   ],
   "source": [
    "x = torch.rand(5, 3)\n",
    "print(x)"
   ]
  },
  {
   "cell_type": "markdown",
   "metadata": {},
   "source": [
    "Construct a matrix filled zeros and of dtype long:\n"
   ]
  },
  {
   "cell_type": "code",
   "execution_count": 7,
   "metadata": {},
   "outputs": [
    {
     "name": "stdout",
     "output_type": "stream",
     "text": [
      "tensor([[0, 0, 0],\n",
      "        [0, 0, 0],\n",
      "        [0, 0, 0],\n",
      "        [0, 0, 0],\n",
      "        [0, 0, 0]])\n"
     ]
    }
   ],
   "source": [
    "x = torch.zeros(5, 3, dtype=torch.long)\n",
    "print(x)"
   ]
  },
  {
   "cell_type": "markdown",
   "metadata": {},
   "source": [
    "Construct a tensor directly from data:"
   ]
  },
  {
   "cell_type": "code",
   "execution_count": 8,
   "metadata": {},
   "outputs": [
    {
     "name": "stdout",
     "output_type": "stream",
     "text": [
      "tensor([5.5000, 3.0000])\n"
     ]
    }
   ],
   "source": [
    "x = torch.tensor([5.5, 3])\n",
    "print(x)"
   ]
  },
  {
   "cell_type": "markdown",
   "metadata": {},
   "source": [
    "or create a tensor based on an existing tensor. These methods\n",
    "will reuse properties of the input tensor, e.g. dtype, unless\n",
    "new values are provided by user"
   ]
  },
  {
   "cell_type": "code",
   "execution_count": 9,
   "metadata": {},
   "outputs": [
    {
     "name": "stdout",
     "output_type": "stream",
     "text": [
      "tensor([[1., 1., 1.],\n",
      "        [1., 1., 1.],\n",
      "        [1., 1., 1.],\n",
      "        [1., 1., 1.],\n",
      "        [1., 1., 1.]], dtype=torch.float64)\n",
      "tensor([[ 1.0951,  1.0376,  0.6925],\n",
      "        [ 0.1127, -1.2842, -0.4626],\n",
      "        [-1.1416, -0.6051, -1.3088],\n",
      "        [ 2.2977, -0.8336, -0.4130],\n",
      "        [ 0.7442, -0.3319,  0.8346]])\n"
     ]
    }
   ],
   "source": [
    "x = x.new_ones(5, 3, dtype=torch.double)      # new_* methods take in sizes\n",
    "print(x)\n",
    "\n",
    "x = torch.randn_like(x, dtype=torch.float)    # override dtype!\n",
    "print(x)                                      # result has the same size"
   ]
  },
  {
   "cell_type": "markdown",
   "metadata": {},
   "source": [
    "Get its size:"
   ]
  },
  {
   "cell_type": "code",
   "execution_count": 10,
   "metadata": {},
   "outputs": [
    {
     "name": "stdout",
     "output_type": "stream",
     "text": [
      "torch.Size([5, 3])\n"
     ]
    }
   ],
   "source": [
    "print(x.size())"
   ]
  },
  {
   "cell_type": "markdown",
   "metadata": {},
   "source": [
    "<div class=\"alert alert-info\"><h4>Note</h4><p>``torch.Size`` на самом деле это tuple, так что он поддерживает все операции, характерные для tuple</p></div>"
   ]
  },
  {
   "cell_type": "code",
   "execution_count": 14,
   "metadata": {},
   "outputs": [
    {
     "data": {
      "text/plain": [
       "2"
      ]
     },
     "execution_count": 14,
     "metadata": {},
     "output_type": "execute_result"
    }
   ],
   "source": [
    "# пример такой операции\n",
    "len(x.size())"
   ]
  },
  {
   "cell_type": "markdown",
   "metadata": {},
   "source": [
    "### Операции над тензорами\n",
    "\n",
    "####  Сложение"
   ]
  },
  {
   "cell_type": "code",
   "execution_count": 15,
   "metadata": {},
   "outputs": [
    {
     "name": "stdout",
     "output_type": "stream",
     "text": [
      "tensor([[ 1.4462,  1.2460,  1.5569],\n",
      "        [ 0.5812, -0.5787,  0.5305],\n",
      "        [-0.7480, -0.5233, -0.9610],\n",
      "        [ 2.4034, -0.2944,  0.3349],\n",
      "        [ 1.0604, -0.0738,  1.4064]])\n"
     ]
    }
   ],
   "source": [
    "y = torch.rand(5, 3)\n",
    "print(x + y)"
   ]
  },
  {
   "cell_type": "code",
   "execution_count": 16,
   "metadata": {},
   "outputs": [
    {
     "name": "stdout",
     "output_type": "stream",
     "text": [
      "tensor([[ 1.4462,  1.2460,  1.5569],\n",
      "        [ 0.5812, -0.5787,  0.5305],\n",
      "        [-0.7480, -0.5233, -0.9610],\n",
      "        [ 2.4034, -0.2944,  0.3349],\n",
      "        [ 1.0604, -0.0738,  1.4064]])\n"
     ]
    }
   ],
   "source": [
    "# альтернативный синтаксис\n",
    "print(torch.add(x, y))"
   ]
  },
  {
   "cell_type": "markdown",
   "metadata": {},
   "source": [
    "providing an output tensor as argument"
   ]
  },
  {
   "cell_type": "code",
   "execution_count": 17,
   "metadata": {},
   "outputs": [
    {
     "name": "stdout",
     "output_type": "stream",
     "text": [
      "tensor([[ 1.4462,  1.2460,  1.5569],\n",
      "        [ 0.5812, -0.5787,  0.5305],\n",
      "        [-0.7480, -0.5233, -0.9610],\n",
      "        [ 2.4034, -0.2944,  0.3349],\n",
      "        [ 1.0604, -0.0738,  1.4064]])\n"
     ]
    }
   ],
   "source": [
    "result = torch.empty(5, 3)\n",
    "torch.add(x, y, out=result)\n",
    "print(result)"
   ]
  },
  {
   "cell_type": "code",
   "execution_count": 18,
   "metadata": {},
   "outputs": [
    {
     "name": "stdout",
     "output_type": "stream",
     "text": [
      "tensor([[ 1.4462,  1.2460,  1.5569],\n",
      "        [ 0.5812, -0.5787,  0.5305],\n",
      "        [-0.7480, -0.5233, -0.9610],\n",
      "        [ 2.4034, -0.2944,  0.3349],\n",
      "        [ 1.0604, -0.0738,  1.4064]])\n"
     ]
    }
   ],
   "source": [
    "# adds x to y inplace\n",
    "y.add_(x)\n",
    "print(y)"
   ]
  },
  {
   "cell_type": "markdown",
   "metadata": {},
   "source": [
    "<div class=\"alert alert-info\"><h4>Note</h4><p>Любая операция, изменяющая тензор in-place имеет в конце нижнее подчеркивание ``_``.\n",
    "    \n",
    "Примеры: ``x.copy_(y)``, ``x.t_()``, изменяют ``x``.</p></div>\n"
   ]
  },
  {
   "cell_type": "markdown",
   "metadata": {},
   "source": [
    "#### Индексирование, слайсинг\n",
    "\n",
    "Такое же как в NumPy"
   ]
  },
  {
   "cell_type": "code",
   "execution_count": 19,
   "metadata": {},
   "outputs": [
    {
     "name": "stdout",
     "output_type": "stream",
     "text": [
      "tensor([ 1.0376, -1.2842, -0.6051, -0.8336, -0.3319])\n"
     ]
    }
   ],
   "source": [
    "print(x[:, 1])"
   ]
  },
  {
   "cell_type": "markdown",
   "metadata": {},
   "source": [
    "#### Resizing"
   ]
  },
  {
   "cell_type": "code",
   "execution_count": 20,
   "metadata": {},
   "outputs": [
    {
     "name": "stdout",
     "output_type": "stream",
     "text": [
      "torch.Size([4, 4]) torch.Size([16]) torch.Size([2, 8])\n"
     ]
    }
   ],
   "source": [
    "x = torch.randn(4, 4)\n",
    "y = x.view(16)\n",
    "z = x.view(-1, 8)  # the size -1 is inferred from other dimensions\n",
    "print(x.size(), y.size(), z.size())"
   ]
  },
  {
   "cell_type": "markdown",
   "metadata": {},
   "source": [
    "If you have a one element tensor, use ``.item()`` to get the value as a\n",
    "Python number"
   ]
  },
  {
   "cell_type": "code",
   "execution_count": 21,
   "metadata": {},
   "outputs": [
    {
     "name": "stdout",
     "output_type": "stream",
     "text": [
      "tensor([0.7252])\n",
      "0.7251807451248169\n"
     ]
    }
   ],
   "source": [
    "x = torch.randn(1)\n",
    "print(x)\n",
    "print(x.item())"
   ]
  },
  {
   "cell_type": "markdown",
   "metadata": {},
   "source": [
    "Более подробно обо всех операция можно почитать тут: [доки пайторчей](http://pytorch.org/docs/torch)"
   ]
  },
  {
   "cell_type": "markdown",
   "metadata": {},
   "source": [
    "### Связь с NumPy\n",
    "\n",
    "Можно конвертировать тензоры в NumPy array и обратно без особого труда (в Tensorflow для этого нужен \"особый труд\").\n",
    "\n",
    "\n",
    "*Note: the Torch Tensor and NumPy array will share their underlying memory\n",
    "locations, and changing one will change the other.*\n"
   ]
  },
  {
   "cell_type": "code",
   "execution_count": 22,
   "metadata": {},
   "outputs": [
    {
     "name": "stdout",
     "output_type": "stream",
     "text": [
      "tensor([1., 1., 1., 1., 1.])\n"
     ]
    }
   ],
   "source": [
    "a = torch.ones(5)\n",
    "print(a)"
   ]
  },
  {
   "cell_type": "code",
   "execution_count": 23,
   "metadata": {},
   "outputs": [
    {
     "name": "stdout",
     "output_type": "stream",
     "text": [
      "[1. 1. 1. 1. 1.]\n"
     ]
    }
   ],
   "source": [
    "b = a.numpy()\n",
    "print(b)"
   ]
  },
  {
   "cell_type": "markdown",
   "metadata": {},
   "source": [
    "Если поменяем a, то поменяется и b, т.к. объекты делят общую память"
   ]
  },
  {
   "cell_type": "code",
   "execution_count": 24,
   "metadata": {},
   "outputs": [
    {
     "name": "stdout",
     "output_type": "stream",
     "text": [
      "tensor([2., 2., 2., 2., 2.])\n",
      "[2. 2. 2. 2. 2.]\n"
     ]
    }
   ],
   "source": [
    "a.add_(1)\n",
    "print(a)\n",
    "print(b)"
   ]
  },
  {
   "cell_type": "markdown",
   "metadata": {},
   "source": [
    "Создаем тензор из NumPy массива, изменяем объект NumPy массива и видим, что тензор пайторча тоже поменялся.  "
   ]
  },
  {
   "cell_type": "code",
   "execution_count": 25,
   "metadata": {},
   "outputs": [
    {
     "name": "stdout",
     "output_type": "stream",
     "text": [
      "[2. 2. 2. 2. 2.]\n",
      "tensor([2., 2., 2., 2., 2.], dtype=torch.float64)\n"
     ]
    }
   ],
   "source": [
    "import numpy as np\n",
    "a = np.ones(5)\n",
    "b = torch.from_numpy(a)\n",
    "np.add(a, 1, out=a)\n",
    "print(a)\n",
    "print(b)"
   ]
  },
  {
   "cell_type": "markdown",
   "metadata": {},
   "source": [
    "## Небольшая практическая часть\n",
    "\n",
    "Нарисуйте функцию с помощью тензоров из пайторча\n",
    "\n",
    "**Butterfly curve**\n",
    "\n",
    "$$x = \\sin(t) \\left(e^{\\cos(t)} - 2\\cos(4t) - \\sin^5\\left({t \\over 12}\\right)\\right)$$\n",
    "$${\\displaystyle y=\\cos(t)\\left(e^{\\cos(t)}-2\\cos(4t)-\\sin ^{5}\\left({t \\over 12}\\right)\\right)} $$\n",
    "$${\\displaystyle 0\\leq t\\leq 12\\pi } $$\n"
   ]
  },
  {
   "cell_type": "code",
   "execution_count": 32,
   "metadata": {},
   "outputs": [],
   "source": [
    "import matplotlib.pyplot as plt\n",
    "%matplotlib inline\n",
    "\n",
    "t = torch.linspace(0, 12*math.pi, steps = 10000)\n",
    "\n",
    "# compute x(t) and y(t) as defined above\n",
    "x = ###YOUR CODE\n",
    "y = ###YOUR CODE\n",
    "\n",
    "plt.plot(x.numpy(), y.numpy())"
   ]
  },
  {
   "cell_type": "markdown",
   "metadata": {},
   "source": [
    "CUDA Tensors\n",
    "------------\n",
    "\n",
    "Tensors can be moved onto any device using the ``.to`` method.\n",
    "\n",
    "(Да-да, нужно прописывать explicitly для для каждого тензора на каком же девайсе ему быть)\n",
    "\n",
    "> - А что такое **CUDA**?\n",
    "> - Это бекенд pyTorch, библиотека на C/C++, реализующая оптимальные вычисления на видеокартах фирмы Nvidia. \n"
   ]
  },
  {
   "cell_type": "code",
   "execution_count": 29,
   "metadata": {},
   "outputs": [],
   "source": [
    "# let us run this cell only if CUDA is available\n",
    "# We will use ``torch.device`` objects to move tensors in and out of GPU\n",
    "if torch.cuda.is_available():\n",
    "    device = torch.device(\"cuda\")          # a CUDA device object\n",
    "    y = torch.ones_like(x, device=device)  # directly create a tensor on GPU\n",
    "    x = x.to(device)                       # or just use strings ``.to(\"cuda\")``\n",
    "    z = x + y\n",
    "    print(z)\n",
    "    print(z.to(\"cpu\", torch.double))       # ``.to`` can also change dtype together!"
   ]
  },
  {
   "cell_type": "markdown",
   "metadata": {},
   "source": [
    "#  Нейронные сети"
   ]
  },
  {
   "cell_type": "markdown",
   "metadata": {},
   "source": [
    "\n",
    "### Типичный пайплайн разработки нейросетевой модели\n",
    "\n",
    "\n",
    "- Define the neural network that has some learnable parameters (or\n",
    "  weights)\n",
    "- Iterate over a dataset of inputs\n",
    "- Process input through the network\n",
    "- Compute the loss (how far is the output from being correct)\n",
    "- Propagate gradients back into the network’s parameters\n",
    "- Update the weights of the network, typically using a simple update rule:\n",
    "  \n",
    "- Задаем архитектуру сети\n",
    "- Итерируемся по датасету входных данных\n",
    "- Каждый кусок датасета (батч) прогоняем через архитектуру **[forward pass]**\n",
    "- Считаем значение функции потерь (насколько предсказание сети отличается от правильного ответа) **[forward pass]**\n",
    "- Считаем градиенты функции потерь по параметрам сети с помощью алгоритма обратного распространения ошибки (backpropagation) **[backward pass]**\n",
    "- Обновляем веса сети по простому правилу (или его вариациаями):\n",
    "  ``weight = weight - learning_rate * gradient``\n",
    "  \n",
    "#### Backpropagation\n",
    "\n",
    "Чтобы лучше понять backprop можно почитать [тут](http://cs231n.github.io/optimization-2/)\n",
    "\n",
    "\n",
    "\n",
    "* На картинке зеленым цветом представлены значения в узлах вычислительного графа при прямом проходе\n",
    "* Красным цветом обозначены подсчитанные на обратном проходе градиенты\n",
    "\n",
    "<img src=\"https://i.stack.imgur.com/zP6uK.png\" width=500>\n",
    "\n",
    "В виде кода это выглядит следующим образом:"
   ]
  },
  {
   "cell_type": "code",
   "execution_count": 30,
   "metadata": {},
   "outputs": [],
   "source": [
    "# set some inputs\n",
    "x = -2; y = 5; z = -4\n",
    "\n",
    "# perform the forward pass\n",
    "q = x + y # q becomes 3\n",
    "f = q * z # f becomes -12\n",
    "\n",
    "# perform the backward pass (backpropagation) in reverse order:\n",
    "# first backprop through f = q * z\n",
    "dfdz = q # df/dz = q, so gradient on z becomes 3\n",
    "dfdq = z # df/dq = z, so gradient on q becomes -4\n",
    "# now backprop through q = x + y\n",
    "dfdx = 1.0 * dfdq # dq/dx = 1. And the multiplication here is the chain rule!\n",
    "dfdy = 1.0 * dfdq # dq/dy = 1"
   ]
  },
  {
   "cell_type": "markdown",
   "metadata": {},
   "source": [
    "* Никто бы не пользовался фреймворками для обучения нейронных сетей, если бы в них не было возможности автоматического дифференцирования!\n",
    "\n",
    "* `torch.autograd` позволяет делать **backward pass** без участия разработчика!\n",
    "\n",
    "* В тензорах pyTorch на самом деле хранятся градиенты по этим тензорам"
   ]
  },
  {
   "cell_type": "markdown",
   "metadata": {},
   "source": [
    "* Специально для работы с нейросетями у торча припасен модуль `torch.nn`.\n"
   ]
  },
  {
   "cell_type": "code",
   "execution_count": 40,
   "metadata": {},
   "outputs": [],
   "source": [
    "import torch.nn as nn\n",
    "import torchvision.datasets as dsets\n",
    "import torchvision.transforms as transforms"
   ]
  },
  {
   "cell_type": "markdown",
   "metadata": {},
   "source": [
    "##### Подготовка данных\n",
    "\n",
    "Используются пайплайны подготовки данных из PyTorch (не обязательно в это вникать на текущем этапе)"
   ]
  },
  {
   "cell_type": "code",
   "execution_count": 41,
   "metadata": {},
   "outputs": [],
   "source": [
    "# MNIST Dataset (Images and Labels)\n",
    "train_dataset = dsets.MNIST(root='.', \n",
    "                            train=True, \n",
    "                            transform=transforms.ToTensor(),\n",
    "                            download=True)"
   ]
  },
  {
   "cell_type": "code",
   "execution_count": 42,
   "metadata": {},
   "outputs": [],
   "source": [
    "test_dataset = dsets.MNIST(root='.', \n",
    "                           train=False, \n",
    "                           transform=transforms.ToTensor())\n",
    "\n",
    "# Dataset Loader (Input Pipline)\n",
    "train_loader = torch.utils.data.DataLoader(dataset=train_dataset, \n",
    "                                           batch_size=batch_size, \n",
    "                                           shuffle=True)\n",
    "\n",
    "test_loader = torch.utils.data.DataLoader(dataset=test_dataset, \n",
    "                                          batch_size=batch_size, \n",
    "                                          shuffle=False)"
   ]
  },
  {
   "cell_type": "code",
   "execution_count": 62,
   "metadata": {},
   "outputs": [
    {
     "name": "stdout",
     "output_type": "stream",
     "text": [
      "* Размер train\n",
      " [количество_примеров, высота_картинки, ширина_картинки]:  torch.Size([60000, 28, 28])\n",
      "* Размер test\n",
      " [количество_примеров, высота_картинки, ширина_картинки]:  torch.Size([10000, 28, 28])\n",
      "---\n",
      "Метки классов в датасете:  tensor([8, 7, 6, 3, 2, 9, 1, 4, 0, 5])\n"
     ]
    }
   ],
   "source": [
    "print(\"* Размер train\\n [количество_примеров, высота_картинки, ширина_картинки]: \", train_dataset.train_data.shape)\n",
    "print(\"* Размер test\\n [количество_примеров, высота_картинки, ширина_картинки]: \", test_dataset.test_data.shape)\n",
    "print(\"---\")\n",
    "print(\"Метки классов в датасете: \", train_dataset.train_labels.unique())"
   ]
  },
  {
   "cell_type": "code",
   "execution_count": 78,
   "metadata": {},
   "outputs": [
    {
     "data": {
      "image/png": "[encoded data removed]",
      "text/plain": [
       "<matplotlib.figure.Figure at 0x7fdd402fec88>"
      ]
     },
     "metadata": {
      "needs_background": "light"
     },
     "output_type": "display_data"
    }
   ],
   "source": [
    "fig=plt.figure(figsize=(8, 3))\n",
    "columns = 5\n",
    "rows = 2\n",
    "for i in range(1, columns*rows +1):\n",
    "    idx = np.random.choice(np.arange(60000)[train_dataset.train_labels.numpy()==i-1])\n",
    "    img = train_dataset.train_data[idx]\n",
    "    fig.add_subplot(rows, columns, i)\n",
    "    plt.imshow(img)\n",
    "plt.show()"
   ]
  },
  {
   "cell_type": "markdown",
   "metadata": {},
   "source": [
    "##### Разработка модели на примере логистической регрессии\n",
    "\n",
    "**Правила торча для nn**\n",
    "\n",
    "* Необходимо всегда писать класс для каждой модели\n",
    "* Этот класс всегда необходимо наследовать от модуля nn.Module\n",
    "    - в этом случае backward pass прописан за вас и нужно написать только forward\n",
    "* В `__init__` создаем слои и функции, которыми будем пользоваться в forward & backward стадиях\n",
    "* В `forward` прописываем непосредственную архитектуру сети (как слои связаны друг с другом)\n",
    "\n",
    "\n",
    "**Полносвязный слой**\n",
    "\n",
    "Сегодня мы используем только полносвязный или линейный слой `nn.Linear`.\n",
    "\n",
    "Линейный слой имеет 2 параметра `in_features`, `out_features`, что напрямую соответствует размерностям матрицы `W` в формуле:\n",
    "$$\\Large \\underset{[batch\\_size \\times out\\_features]}{x\\_out} = \\underset{[batch\\_size \\times in\\_features]}{x\\_in} \\cdot \\underset{[in\\_features \\times out\\_features]}{W}$$"
   ]
  },
  {
   "cell_type": "code",
   "execution_count": 137,
   "metadata": {},
   "outputs": [],
   "source": [
    "# Model\n",
    "class LogisticRegression(nn.Module):\n",
    "    def __init__(self, input_size, num_classes):\n",
    "        # всегда вызываем super метод в таком формате,\n",
    "        # если init метод хотим прописать в классе\n",
    "        super(LogisticRegression, self).__init__()\n",
    "        \n",
    "        # в методе __init__ мы создаем объекты (слои и операции),\n",
    "        # которыми желаем пользоваться в forward & backward стадиях\n",
    "        # здесь мы создаем и сохраняем ссылку на объект линейного слоя\n",
    "        self.linear = nn.Linear(input_size, num_classes)\n",
    "    \n",
    "    def forward(self, x):\n",
    "        # здесь мы применяем линейный слой к входным данным и возращаем результат\n",
    "        logits = self.linear(x)\n",
    "        return logits"
   ]
  },
  {
   "cell_type": "code",
   "execution_count": 138,
   "metadata": {},
   "outputs": [],
   "source": [
    "# Задаем гиперпараметры\n",
    "input_size = 784 # 28*28 -- мы вытянули в линию все пиксели картинки\n",
    "num_classes = 10\n",
    "num_epochs = 5\n",
    "batch_size = 100\n",
    "learning_rate = 0.001"
   ]
  },
  {
   "cell_type": "code",
   "execution_count": 139,
   "metadata": {},
   "outputs": [],
   "source": [
    "# Создаем объект модели с этими параметрами\n",
    "model = LogisticRegression(input_size=input_size, num_classes=num_classes)"
   ]
  },
  {
   "cell_type": "code",
   "execution_count": 140,
   "metadata": {},
   "outputs": [
    {
     "name": "stdout",
     "output_type": "stream",
     "text": [
      "torch.Size([1, 10])\n",
      "tensor([[ 0.0060, -0.1428, -0.3754,  0.3453, -0.7917,  0.1498,  0.4992, -0.3609,\n",
      "          0.3930, -0.1997]], grad_fn=<ThAddmmBackward>)\n"
     ]
    }
   ],
   "source": [
    "# проверим на рандомных данных forward pass\n",
    "rnd_x = np.random.rand(1, input_size)\n",
    "out = model.forward(torch.from_numpy(rnd_x).float())\n",
    "print(out.size())\n",
    "print(out)"
   ]
  },
  {
   "cell_type": "markdown",
   "metadata": {},
   "source": [
    "Можно посмотреть на размер матрицы W для линейного слоя модели.\n",
    "\n",
    "Здесь видно 10 - количество классов.\n",
    "Выходит, что для каждого класса хранятся свои 784 параметра!"
   ]
  },
  {
   "cell_type": "code",
   "execution_count": 141,
   "metadata": {},
   "outputs": [
    {
     "data": {
      "text/plain": [
       "torch.Size([10, 784])"
      ]
     },
     "execution_count": 141,
     "metadata": {},
     "output_type": "execute_result"
    }
   ],
   "source": [
    "model.linear.parameters().__next__().size()"
   ]
  },
  {
   "cell_type": "markdown",
   "metadata": {},
   "source": [
    "### Функция потерь и обучение"
   ]
  },
  {
   "cell_type": "code",
   "execution_count": 142,
   "metadata": {},
   "outputs": [],
   "source": [
    "# Какие параметры обучаем?"
   ]
  },
  {
   "cell_type": "code",
   "execution_count": 143,
   "metadata": {},
   "outputs": [
    {
     "name": "stdout",
     "output_type": "stream",
     "text": [
      "Parameter containing:\n",
      "tensor([[ 0.0291, -0.0086,  0.0256,  ...,  0.0325,  0.0059, -0.0201],\n",
      "        [ 0.0158,  0.0195, -0.0197,  ..., -0.0082, -0.0125,  0.0002],\n",
      "        [ 0.0139, -0.0063, -0.0070,  ...,  0.0188,  0.0136, -0.0348],\n",
      "        ...,\n",
      "        [ 0.0208, -0.0354, -0.0193,  ...,  0.0160, -0.0151,  0.0076],\n",
      "        [ 0.0009,  0.0243, -0.0193,  ...,  0.0109,  0.0083, -0.0028],\n",
      "        [ 0.0321, -0.0199,  0.0071,  ...,  0.0125, -0.0344,  0.0080]],\n",
      "       requires_grad=True)\n",
      "Parameter containing:\n",
      "tensor([-0.0028, -0.0210,  0.0139,  0.0211, -0.0253,  0.0092, -0.0189,  0.0006,\n",
      "        -0.0070, -0.0208], requires_grad=True)\n"
     ]
    }
   ],
   "source": [
    "for p in model.parameters():\n",
    "    print(p)"
   ]
  },
  {
   "cell_type": "markdown",
   "metadata": {},
   "source": [
    "Получили как раз параметры $W$ & $b$, которые и обучаются в лог регрессии\n",
    "\n",
    "Объявляем функцию потерь -- **софтмакс от входных данных этой функции считается у нее внутри**, поэтому в нашей модели не было слоя с софтмаксом, хотя он и должен был бы быть."
   ]
  },
  {
   "cell_type": "code",
   "execution_count": 144,
   "metadata": {},
   "outputs": [],
   "source": [
    "criterion = nn.CrossEntropyLoss()\n",
    "optimizer = torch.optim.SGD(model.parameters(), lr=learning_rate)  "
   ]
  },
  {
   "cell_type": "code",
   "execution_count": 145,
   "metadata": {},
   "outputs": [
    {
     "name": "stderr",
     "output_type": "stream",
     "text": [
      "/home/fogside/virtens/py3/lib/python3.6/site-packages/ipykernel_launcher.py:28: UserWarning: invalid index of a 0-dim tensor. This will be an error in PyTorch 0.5. Use tensor.item() to convert a 0-dim tensor to a Python number\n"
     ]
    },
    {
     "name": "stdout",
     "output_type": "stream",
     "text": [
      "Epoch: [1/5], Step: [100/600], Loss: 2.1518\n",
      "Epoch: [1/5], Step: [200/600], Loss: 2.0988\n",
      "Epoch: [1/5], Step: [300/600], Loss: 1.9788\n",
      "Epoch: [1/5], Step: [400/600], Loss: 1.9488\n",
      "Epoch: [1/5], Step: [500/600], Loss: 1.8296\n",
      "Epoch: [1/5], Step: [600/600], Loss: 1.8068\n",
      "Epoch: [2/5], Step: [100/600], Loss: 1.7799\n",
      "Epoch: [2/5], Step: [200/600], Loss: 1.6390\n",
      "Epoch: [2/5], Step: [300/600], Loss: 1.5645\n",
      "Epoch: [2/5], Step: [400/600], Loss: 1.5497\n",
      "Epoch: [2/5], Step: [500/600], Loss: 1.5047\n",
      "Epoch: [2/5], Step: [600/600], Loss: 1.5018\n",
      "Epoch: [3/5], Step: [100/600], Loss: 1.5466\n",
      "Epoch: [3/5], Step: [200/600], Loss: 1.4266\n",
      "Epoch: [3/5], Step: [300/600], Loss: 1.2647\n",
      "Epoch: [3/5], Step: [400/600], Loss: 1.2457\n",
      "Epoch: [3/5], Step: [500/600], Loss: 1.2366\n",
      "Epoch: [3/5], Step: [600/600], Loss: 1.2782\n",
      "Epoch: [4/5], Step: [100/600], Loss: 1.1716\n",
      "Epoch: [4/5], Step: [200/600], Loss: 1.1291\n",
      "Epoch: [4/5], Step: [300/600], Loss: 1.1473\n",
      "Epoch: [4/5], Step: [400/600], Loss: 1.1594\n",
      "Epoch: [4/5], Step: [500/600], Loss: 1.1460\n",
      "Epoch: [4/5], Step: [600/600], Loss: 1.1192\n",
      "Epoch: [5/5], Step: [100/600], Loss: 1.0171\n",
      "Epoch: [5/5], Step: [200/600], Loss: 1.1767\n",
      "Epoch: [5/5], Step: [300/600], Loss: 1.1423\n",
      "Epoch: [5/5], Step: [400/600], Loss: 0.9963\n",
      "Epoch: [5/5], Step: [500/600], Loss: 1.0646\n",
      "Epoch: [5/5], Step: [600/600], Loss: 0.9011\n"
     ]
    }
   ],
   "source": [
    "# Training the Model\n",
    "for epoch in range(num_epochs):\n",
    "    for i, (images, labels) in enumerate(train_loader):\n",
    "        # разворачиваем картинку в строчку пикселей\n",
    "        images = images.view(-1, 28*28)\n",
    "        \n",
    "        # можно сделать model(input) или model.forward(input) -- это одно и то же\n",
    "        # таким образом делаем прямой проход\n",
    "        outputs = model(images)\n",
    "        \n",
    "        # считаем функцию потерь\n",
    "        loss = criterion(outputs, labels)\n",
    "        \n",
    "        # зануляем градиенты оптимайзера,\n",
    "        # т.к каждый шаг он добавляет значение градиентов\n",
    "        # к текущему состоянию градиентов каждой переменной\n",
    "        optimizer.zero_grad()\n",
    "        \n",
    "        # пробрасываем градиенты для всех переменных\n",
    "        # в вычислительном графе\n",
    "        loss.backward()\n",
    "        \n",
    "        # обновляем значения параметров модели\n",
    "        optimizer.step()\n",
    "        \n",
    "        if (i+1) % 100 == 0:\n",
    "            print ('Epoch: [%d/%d], Step: [%d/%d], Loss: %.4f' \n",
    "                   % (epoch+1, num_epochs, i+1, len(train_dataset)//batch_size, loss.data[0]))"
   ]
  },
  {
   "cell_type": "markdown",
   "metadata": {},
   "source": [
    "## Визуализация весов\n",
    "\n",
    "Теперь давайте провизуализируем веса модели, чтобы понять какие \"фичи\" модель выделила для каждого класса"
   ]
  },
  {
   "cell_type": "code",
   "execution_count": 151,
   "metadata": {},
   "outputs": [
    {
     "data": {
      "text/plain": [
       "(10, 784)"
      ]
     },
     "execution_count": 151,
     "metadata": {},
     "output_type": "execute_result"
    }
   ],
   "source": [
    "W = model.parameters().__next__().detach().numpy()\n",
    "W.shape"
   ]
  },
  {
   "cell_type": "code",
   "execution_count": 155,
   "metadata": {},
   "outputs": [
    {
     "data": {
      "image/png": "[encoded data removed]",
      "text/plain": [
       "<matplotlib.figure.Figure at 0x7fdd41db27f0>"
      ]
     },
     "metadata": {
      "needs_background": "light"
     },
     "output_type": "display_data"
    }
   ],
   "source": [
    "fig=plt.figure(figsize=(8, 3))\n",
    "columns = 5\n",
    "rows = 2\n",
    "for i in range(1, columns*rows +1):\n",
    "    img = W[i-1].reshape((28, 28))\n",
    "    fig.add_subplot(rows, columns, i)\n",
    "    plt.imshow(img)\n",
    "plt.show()"
   ]
  },
  {
   "cell_type": "markdown",
   "metadata": {},
   "source": [
    "Как вы думаете, почему так вышло, что веса модели оказались так похожи на сами картинки?"
   ]
  },
  {
   "cell_type": "markdown",
   "metadata": {},
   "source": [
    "## Задания\n",
    "\n",
    "1. Посчитайте метрику (roc_auc) для предсказаний модели на отложенной выборке (test_dataset)\n",
    "\n",
    "2. Напишите модель Логистической регрессии без использования слоев из PyTorch, а используя только перемножения тензоров.\n",
    "\n",
    "3. Добавьте линейных слоев в модель. Изменится ли качество классификации?\n",
    "\n",
    "4. Как вы думаете, имеет ли смысл добавлять друг за другом несколько линейных слоев?\n",
    "\n",
    "5. Что можно сделать, чтобы добавление нескольких линейных слоев в модель имело бы смысл?"
   ]
  }
 ],
 "metadata": {
  "kernelspec": {
   "display_name": "Python 3",
   "language": "python",
   "name": "python3"
  },
  "language_info": {
   "codemirror_mode": {
    "name": "ipython",
    "version": 3
   },
   "file_extension": ".py",
   "mimetype": "text/x-python",
   "name": "python",
   "nbconvert_exporter": "python",
   "pygments_lexer": "ipython3",
   "version": "3.6.3"
  }
 },
 "nbformat": 4,
 "nbformat_minor": 2
}
